{
 "cells": [
  {
   "cell_type": "code",
   "execution_count": null,
   "metadata": {},
   "outputs": [],
   "source": [
    "#simple text classification model to predict wine variety from reviews description.\n",
    "#a simple deep learning model and a linear svm has been used.\n",
    "# a model has been trained and subsequently that model has been used to test. train accuracy has been around 96%. test accuracy achieved is around 29% which is poor"
   ]
  },
  {
   "cell_type": "code",
   "execution_count": 24,
   "metadata": {},
   "outputs": [],
   "source": [
    "# install packages\n",
    "import numpy as np\n",
    "import pandas as pd\n",
    "\n",
    "\n",
    "from sklearn import metrics\n",
    "from sklearn.model_selection import train_test_split\n",
    "from sklearn.feature_extraction.text import CountVectorizer, TfidfVectorizer"
   ]
  },
  {
   "cell_type": "code",
   "execution_count": 25,
   "metadata": {},
   "outputs": [
    {
     "data": {
      "text/html": [
       "<div>\n",
       "<style scoped>\n",
       "    .dataframe tbody tr th:only-of-type {\n",
       "        vertical-align: middle;\n",
       "    }\n",
       "\n",
       "    .dataframe tbody tr th {\n",
       "        vertical-align: top;\n",
       "    }\n",
       "\n",
       "    .dataframe thead th {\n",
       "        text-align: right;\n",
       "    }\n",
       "</style>\n",
       "<table border=\"1\" class=\"dataframe\">\n",
       "  <thead>\n",
       "    <tr style=\"text-align: right;\">\n",
       "      <th></th>\n",
       "      <th>user_name</th>\n",
       "      <th>country</th>\n",
       "      <th>review_title</th>\n",
       "      <th>review_description</th>\n",
       "      <th>designation</th>\n",
       "      <th>points</th>\n",
       "      <th>price</th>\n",
       "      <th>province</th>\n",
       "      <th>region_1</th>\n",
       "      <th>region_2</th>\n",
       "      <th>winery</th>\n",
       "      <th>variety</th>\n",
       "    </tr>\n",
       "  </thead>\n",
       "  <tbody>\n",
       "    <tr>\n",
       "      <th>0</th>\n",
       "      <td>NaN</td>\n",
       "      <td>Australia</td>\n",
       "      <td>Andrew Peace 2007 Peace Family Vineyard Chardo...</td>\n",
       "      <td>Classic Chardonnay aromas of apple, pear and h...</td>\n",
       "      <td>Peace Family Vineyard</td>\n",
       "      <td>83</td>\n",
       "      <td>10.0</td>\n",
       "      <td>Australia Other</td>\n",
       "      <td>South Eastern Australia</td>\n",
       "      <td>NaN</td>\n",
       "      <td>Andrew Peace</td>\n",
       "      <td>Chardonnay</td>\n",
       "    </tr>\n",
       "    <tr>\n",
       "      <th>1</th>\n",
       "      <td>@wawinereport</td>\n",
       "      <td>US</td>\n",
       "      <td>North by Northwest 2014 Red (Columbia Valley (...</td>\n",
       "      <td>This wine is near equal parts Syrah and Merlot...</td>\n",
       "      <td>NaN</td>\n",
       "      <td>89</td>\n",
       "      <td>15.0</td>\n",
       "      <td>Washington</td>\n",
       "      <td>Columbia Valley (WA)</td>\n",
       "      <td>Columbia Valley</td>\n",
       "      <td>North by Northwest</td>\n",
       "      <td>Red Blend</td>\n",
       "    </tr>\n",
       "    <tr>\n",
       "      <th>2</th>\n",
       "      <td>NaN</td>\n",
       "      <td>Italy</td>\n",
       "      <td>Renato Ratti 2007 Conca  (Barolo)</td>\n",
       "      <td>Barolo Conca opens with inky dark concentratio...</td>\n",
       "      <td>Conca</td>\n",
       "      <td>94</td>\n",
       "      <td>80.0</td>\n",
       "      <td>Piedmont</td>\n",
       "      <td>Barolo</td>\n",
       "      <td>NaN</td>\n",
       "      <td>Renato Ratti</td>\n",
       "      <td>Nebbiolo</td>\n",
       "    </tr>\n",
       "    <tr>\n",
       "      <th>3</th>\n",
       "      <td>@vossroger</td>\n",
       "      <td>France</td>\n",
       "      <td>Domaine l'Ancienne Cure 2010 L'Abbaye White (B...</td>\n",
       "      <td>It's impressive what a small addition of Sauvi...</td>\n",
       "      <td>L'Abbaye</td>\n",
       "      <td>87</td>\n",
       "      <td>22.0</td>\n",
       "      <td>Southwest France</td>\n",
       "      <td>Bergerac Sec</td>\n",
       "      <td>NaN</td>\n",
       "      <td>Domaine l'Ancienne Cure</td>\n",
       "      <td>Bordeaux-style White Blend</td>\n",
       "    </tr>\n",
       "    <tr>\n",
       "      <th>4</th>\n",
       "      <td>@vossroger</td>\n",
       "      <td>France</td>\n",
       "      <td>Château du Cèdre 2012 Le Cèdre Vintage Malbec ...</td>\n",
       "      <td>This ripe, sweet wine is rich and full of drie...</td>\n",
       "      <td>Le Cèdre Vintage</td>\n",
       "      <td>88</td>\n",
       "      <td>33.0</td>\n",
       "      <td>France Other</td>\n",
       "      <td>Vin de Liqueur</td>\n",
       "      <td>NaN</td>\n",
       "      <td>Château du Cèdre</td>\n",
       "      <td>Malbec</td>\n",
       "    </tr>\n",
       "  </tbody>\n",
       "</table>\n",
       "</div>"
      ],
      "text/plain": [
       "       user_name    country  \\\n",
       "0            NaN  Australia   \n",
       "1  @wawinereport         US   \n",
       "2            NaN      Italy   \n",
       "3     @vossroger     France   \n",
       "4     @vossroger     France   \n",
       "\n",
       "                                        review_title  \\\n",
       "0  Andrew Peace 2007 Peace Family Vineyard Chardo...   \n",
       "1  North by Northwest 2014 Red (Columbia Valley (...   \n",
       "2                  Renato Ratti 2007 Conca  (Barolo)   \n",
       "3  Domaine l'Ancienne Cure 2010 L'Abbaye White (B...   \n",
       "4  Château du Cèdre 2012 Le Cèdre Vintage Malbec ...   \n",
       "\n",
       "                                  review_description            designation  \\\n",
       "0  Classic Chardonnay aromas of apple, pear and h...  Peace Family Vineyard   \n",
       "1  This wine is near equal parts Syrah and Merlot...                    NaN   \n",
       "2  Barolo Conca opens with inky dark concentratio...                  Conca   \n",
       "3  It's impressive what a small addition of Sauvi...               L'Abbaye   \n",
       "4  This ripe, sweet wine is rich and full of drie...       Le Cèdre Vintage   \n",
       "\n",
       "   points  price          province                 region_1         region_2  \\\n",
       "0      83   10.0   Australia Other  South Eastern Australia              NaN   \n",
       "1      89   15.0        Washington     Columbia Valley (WA)  Columbia Valley   \n",
       "2      94   80.0          Piedmont                   Barolo              NaN   \n",
       "3      87   22.0  Southwest France             Bergerac Sec              NaN   \n",
       "4      88   33.0      France Other           Vin de Liqueur              NaN   \n",
       "\n",
       "                    winery                     variety  \n",
       "0             Andrew Peace                  Chardonnay  \n",
       "1       North by Northwest                   Red Blend  \n",
       "2             Renato Ratti                    Nebbiolo  \n",
       "3  Domaine l'Ancienne Cure  Bordeaux-style White Blend  \n",
       "4         Château du Cèdre                      Malbec  "
      ]
     },
     "execution_count": 25,
     "metadata": {},
     "output_type": "execute_result"
    }
   ],
   "source": [
    "# Read csv file into dataframe\n",
    "df= pd.read_csv(\"train.csv\")\n",
    "\n",
    "# Print first 5 rows in the dataframe\n",
    "df.head()\n"
   ]
  },
  {
   "cell_type": "code",
   "execution_count": 26,
   "metadata": {},
   "outputs": [
    {
     "data": {
      "text/plain": [
       "20"
      ]
     },
     "execution_count": 26,
     "metadata": {},
     "output_type": "execute_result"
    }
   ],
   "source": [
    "variety_counts = pd.DataFrame(df['variety'].value_counts())\n",
    "varieties      = list(variety_counts.index[variety_counts['variety'] > 1000])\n",
    "\n",
    "# remove blends\n",
    "varieties.remove('Red Blend')\n",
    "varieties.remove('White Blend')\n",
    "varieties.remove('Sparkling Blend')\n",
    "\n",
    "len(varieties)"
   ]
  },
  {
   "cell_type": "code",
   "execution_count": 27,
   "metadata": {},
   "outputs": [],
   "source": [
    "df1 = df[df['variety'].isin(varieties)]"
   ]
  },
  {
   "cell_type": "code",
   "execution_count": 28,
   "metadata": {},
   "outputs": [
    {
     "data": {
      "text/plain": [
       "Pinot Noir                  10587\n",
       "Chardonnay                   9403\n",
       "Cabernet Sauvignon           7552\n",
       "Bordeaux-style Red Blend     5497\n",
       "Riesling                     4148\n",
       "Sauvignon Blanc              4011\n",
       "Syrah                        3316\n",
       "Rosé                         2831\n",
       "Merlot                       2471\n",
       "Nebbiolo                     2242\n",
       "Zinfandel                    2209\n",
       "Sangiovese                   2165\n",
       "Malbec                       2119\n",
       "Portuguese Red               1969\n",
       "Tempranillo                  1448\n",
       "Rhône-style Red Blend        1182\n",
       "Pinot Gris                   1148\n",
       "Champagne Blend              1133\n",
       "Cabernet Franc               1095\n",
       "Grüner Veltliner             1055\n",
       "Name: variety, dtype: int64"
      ]
     },
     "execution_count": 28,
     "metadata": {},
     "output_type": "execute_result"
    }
   ],
   "source": [
    "df1.variety.value_counts()"
   ]
  },
  {
   "cell_type": "code",
   "execution_count": 29,
   "metadata": {},
   "outputs": [
    {
     "name": "stderr",
     "output_type": "stream",
     "text": [
      "C:\\Users\\BSNL\\Anaconda3\\lib\\site-packages\\ipykernel_launcher.py:1: SettingWithCopyWarning: \n",
      "A value is trying to be set on a copy of a slice from a DataFrame.\n",
      "Try using .loc[row_indexer,col_indexer] = value instead\n",
      "\n",
      "See the caveats in the documentation: http://pandas.pydata.org/pandas-docs/stable/indexing.html#indexing-view-versus-copy\n",
      "  \"\"\"Entry point for launching an IPython kernel.\n"
     ]
    }
   ],
   "source": [
    "df1['variety_code'] = pd.Categorical(df1.variety).codes"
   ]
  },
  {
   "cell_type": "code",
   "execution_count": 30,
   "metadata": {},
   "outputs": [],
   "source": [
    "x = df1.review_description.values\n",
    "y = df1.variety_code.values"
   ]
  },
  {
   "cell_type": "code",
   "execution_count": 31,
   "metadata": {},
   "outputs": [],
   "source": [
    "# split test and train\n",
    "x_train, x_test, y_train, y_test = train_test_split(x, y, test_size=0.2, random_state=123)"
   ]
  },
  {
   "cell_type": "code",
   "execution_count": 32,
   "metadata": {},
   "outputs": [
    {
     "data": {
      "text/plain": [
       "(54064, 21707)"
      ]
     },
     "execution_count": 32,
     "metadata": {},
     "output_type": "execute_result"
    }
   ],
   "source": [
    "# data preprocess\n",
    "tfidf_vec   = TfidfVectorizer()\n",
    "x_train_vec = tfidf_vec.fit_transform(x_train)\n",
    "x_test_vec  = tfidf_vec.transform(x_test)\n",
    "x_train_vec.shape"
   ]
  },
  {
   "cell_type": "code",
   "execution_count": 33,
   "metadata": {},
   "outputs": [
    {
     "name": "stdout",
     "output_type": "stream",
     "text": [
      "accuracy 0.7523119035288895\n"
     ]
    }
   ],
   "source": [
    "# fit model\n",
    "from sklearn.svm import LinearSVC\n",
    "clf             = LinearSVC().fit(x_train_vec, y_train)\n",
    "predicted       = clf.predict(x_test_vec)\n",
    "predicted_score = clf.decision_function(x_test_vec)\n",
    "print('accuracy', metrics.accuracy_score(y_test, predicted))"
   ]
  },
  {
   "cell_type": "code",
   "execution_count": 34,
   "metadata": {},
   "outputs": [],
   "source": [
    "import keras\n",
    "from keras import optimizers\n",
    "import tensorflow as tf\n",
    "\n",
    "from keras.utils import np_utils\n",
    "from keras.preprocessing import sequence\n",
    "from keras.preprocessing.text import Tokenizer\n",
    "\n",
    "from keras.models import Model, Sequential\n",
    "from keras.layers import Input, Dense, CuDNNLSTM, LSTM, Embedding, Bidirectional, GlobalAveragePooling1D, Conv1D, Activation, Flatten, Dropout, MaxPooling1D, Embedding, GlobalMaxPooling1D\n",
    "\n",
    "from keras.layers.core import Dense, Dropout"
   ]
  },
  {
   "cell_type": "code",
   "execution_count": 35,
   "metadata": {},
   "outputs": [
    {
     "name": "stdout",
     "output_type": "stream",
     "text": [
      "136\n"
     ]
    }
   ],
   "source": [
    "x = df1.review_description.values\n",
    "y = df1.variety_code.values\n",
    "\n",
    "# create sequences\n",
    "max_features = 25000\n",
    "tokenizer    = Tokenizer(num_words = max_features)\n",
    "tokenizer.fit_on_texts(x)\n",
    "x_sequences  = tokenizer.texts_to_sequences(x)\n",
    "\n",
    "# pad each sequence to be max length\n",
    "maxlen = max(len(x) for x in x_sequences)\n",
    "print(maxlen)\n",
    "x_sequences = sequence.pad_sequences(x_sequences, maxlen)"
   ]
  },
  {
   "cell_type": "code",
   "execution_count": 36,
   "metadata": {},
   "outputs": [],
   "source": [
    "# split test and train\n",
    "x_train, x_test, y_train, y_test = train_test_split(x_sequences, y, test_size=0.20, random_state=22)"
   ]
  },
  {
   "cell_type": "code",
   "execution_count": 37,
   "metadata": {},
   "outputs": [
    {
     "name": "stdout",
     "output_type": "stream",
     "text": [
      "WARNING:tensorflow:From C:\\Users\\BSNL\\Anaconda3\\lib\\site-packages\\tensorflow\\python\\framework\\op_def_library.py:263: colocate_with (from tensorflow.python.framework.ops) is deprecated and will be removed in a future version.\n",
      "Instructions for updating:\n",
      "Colocations handled automatically by placer.\n",
      "WARNING:tensorflow:From C:\\Users\\BSNL\\Anaconda3\\lib\\site-packages\\keras\\backend\\tensorflow_backend.py:3445: calling dropout (from tensorflow.python.ops.nn_ops) with keep_prob is deprecated and will be removed in a future version.\n",
      "Instructions for updating:\n",
      "Please use `rate` instead of `keep_prob`. Rate should be set to `rate = 1 - keep_prob`.\n"
     ]
    }
   ],
   "source": [
    "model1 = Sequential()\n",
    "model1.add(Embedding(input_dim=max_features,\n",
    "                    output_dim=256))\n",
    "\n",
    "# we add a GlobalAveragePooling1D, which will average the embeddings\n",
    "# of all words in the document\n",
    "model1.add(GlobalAveragePooling1D())\n",
    "model1.add(Dropout(0.5))\n",
    "\n",
    "model1.add(Dense(100, activation=\"softmax\"))"
   ]
  },
  {
   "cell_type": "code",
   "execution_count": 38,
   "metadata": {},
   "outputs": [],
   "source": [
    "opt = keras.optimizers.Adam(lr=0.01) # speed up optimization\n",
    "model1.compile(optimizer=opt, loss=\"sparse_categorical_crossentropy\", metrics=[\"acc\"])"
   ]
  },
  {
   "cell_type": "code",
   "execution_count": 39,
   "metadata": {},
   "outputs": [
    {
     "name": "stdout",
     "output_type": "stream",
     "text": [
      "WARNING:tensorflow:From C:\\Users\\BSNL\\Anaconda3\\lib\\site-packages\\tensorflow\\python\\ops\\math_ops.py:3066: to_int32 (from tensorflow.python.ops.math_ops) is deprecated and will be removed in a future version.\n",
      "Instructions for updating:\n",
      "Use tf.cast instead.\n",
      "Train on 54064 samples, validate on 13517 samples\n",
      "Epoch 1/22\n",
      "54064/54064 [==============================] - 30s 550us/step - loss: 2.5083 - acc: 0.2846 - val_loss: 1.7482 - val_acc: 0.4832\n",
      "Epoch 2/22\n",
      "54064/54064 [==============================] - 20s 375us/step - loss: 1.3984 - acc: 0.5729 - val_loss: 1.1421 - val_acc: 0.6562\n",
      "Epoch 3/22\n",
      "54064/54064 [==============================] - 20s 376us/step - loss: 0.9943 - acc: 0.6960 - val_loss: 0.9421 - val_acc: 0.7069\n",
      "Epoch 4/22\n",
      "54064/54064 [==============================] - 20s 371us/step - loss: 0.8112 - acc: 0.7545 - val_loss: 0.8543 - val_acc: 0.7374\n",
      "Epoch 5/22\n",
      "54064/54064 [==============================] - 20s 371us/step - loss: 0.6972 - acc: 0.7888 - val_loss: 0.8121 - val_acc: 0.7465\n",
      "Epoch 6/22\n",
      "54064/54064 [==============================] - 20s 372us/step - loss: 0.6213 - acc: 0.8110 - val_loss: 0.7888 - val_acc: 0.7549\n",
      "Epoch 7/22\n",
      "54064/54064 [==============================] - 20s 377us/step - loss: 0.5572 - acc: 0.8294 - val_loss: 0.7821 - val_acc: 0.7556\n",
      "Epoch 8/22\n",
      "54064/54064 [==============================] - 20s 372us/step - loss: 0.5073 - acc: 0.8463 - val_loss: 0.7947 - val_acc: 0.7552\n",
      "Epoch 9/22\n",
      "54064/54064 [==============================] - 20s 371us/step - loss: 0.4670 - acc: 0.8569 - val_loss: 0.8097 - val_acc: 0.7546\n",
      "Epoch 10/22\n",
      "54064/54064 [==============================] - 20s 373us/step - loss: 0.4274 - acc: 0.8688 - val_loss: 0.8047 - val_acc: 0.7532\n",
      "Epoch 11/22\n",
      "54064/54064 [==============================] - 20s 374us/step - loss: 0.3945 - acc: 0.8799 - val_loss: 0.8188 - val_acc: 0.7556\n",
      "Epoch 12/22\n",
      "54064/54064 [==============================] - 20s 372us/step - loss: 0.3680 - acc: 0.8886 - val_loss: 0.8325 - val_acc: 0.7553\n",
      "Epoch 13/22\n",
      "54064/54064 [==============================] - 20s 373us/step - loss: 0.3438 - acc: 0.8958 - val_loss: 0.8568 - val_acc: 0.7534\n",
      "Epoch 14/22\n",
      "54064/54064 [==============================] - 20s 373us/step - loss: 0.3173 - acc: 0.9047 - val_loss: 0.8697 - val_acc: 0.7510\n",
      "Epoch 15/22\n",
      "54064/54064 [==============================] - 20s 375us/step - loss: 0.2983 - acc: 0.9097 - val_loss: 0.8939 - val_acc: 0.7480\n",
      "Epoch 16/22\n",
      "54064/54064 [==============================] - 20s 374us/step - loss: 0.2801 - acc: 0.9148 - val_loss: 0.9106 - val_acc: 0.7471\n",
      "Epoch 17/22\n",
      "54064/54064 [==============================] - 20s 375us/step - loss: 0.2631 - acc: 0.9202 - val_loss: 0.9373 - val_acc: 0.7459\n",
      "Epoch 18/22\n",
      "54064/54064 [==============================] - 20s 375us/step - loss: 0.2522 - acc: 0.9232 - val_loss: 0.9718 - val_acc: 0.7442\n",
      "Epoch 19/22\n",
      "54064/54064 [==============================] - 20s 372us/step - loss: 0.2351 - acc: 0.9298 - val_loss: 0.9793 - val_acc: 0.7437\n",
      "Epoch 20/22\n",
      "54064/54064 [==============================] - 20s 373us/step - loss: 0.2243 - acc: 0.9322 - val_loss: 1.0019 - val_acc: 0.7417\n",
      "Epoch 21/22\n",
      "54064/54064 [==============================] - 20s 372us/step - loss: 0.2127 - acc: 0.9358 - val_loss: 1.0300 - val_acc: 0.7426\n",
      "Epoch 22/22\n",
      "54064/54064 [==============================] - 20s 377us/step - loss: 0.2032 - acc: 0.9386 - val_loss: 1.0553 - val_acc: 0.7380\n"
     ]
    }
   ],
   "source": [
    "history1 = model1.fit(x_train, y_train,\n",
    "            batch_size=512,\n",
    "            epochs=22,\n",
    "            validation_data=(x_test, y_test))"
   ]
  },
  {
   "cell_type": "code",
   "execution_count": 40,
   "metadata": {},
   "outputs": [
    {
     "name": "stdout",
     "output_type": "stream",
     "text": [
      "13517/13517 [==============================] - 1s 98us/step\n",
      "accuracy 0.7379596064435913\n"
     ]
    }
   ],
   "source": [
    "print('accuracy', model1.evaluate(x_test, y_test)[1])"
   ]
  },
  {
   "cell_type": "code",
   "execution_count": 41,
   "metadata": {},
   "outputs": [
    {
     "name": "stdout",
     "output_type": "stream",
     "text": [
      "54064/54064 [==============================] - 4s 76us/step\n",
      "train accuracy 0.9613976028410772\n"
     ]
    }
   ],
   "source": [
    "print('train accuracy', model1.evaluate(x_train, y_train)[1])"
   ]
  },
  {
   "cell_type": "code",
   "execution_count": 42,
   "metadata": {},
   "outputs": [],
   "source": [
    "import seaborn as sns\n",
    "import matplotlib.pyplot as plt\n",
    "sns.set_style(\"ticks\")"
   ]
  },
  {
   "cell_type": "code",
   "execution_count": 43,
   "metadata": {},
   "outputs": [
    {
     "data": {
      "text/plain": [
       "array([0.72824156, 0.37444934, 0.72320842, 0.72608696, 0.88404255,\n",
       "       0.69398907, 0.59761905, 0.50099404, 0.82432432, 0.51476793,\n",
       "       0.79444178, 0.76262626, 0.66390041, 0.84764208, 0.80900901,\n",
       "       0.75118483, 0.74904943, 0.61527378, 0.41724138, 0.66741573])"
      ]
     },
     "execution_count": 43,
     "metadata": {},
     "output_type": "execute_result"
    }
   ],
   "source": [
    "from sklearn.metrics import classification_report, accuracy_score, confusion_matrix\n",
    "import numpy as np\n",
    "\n",
    "y_pred1 = model1.predict_classes(x_test)\n",
    "# print(classification_report(y_test, y_pred4))\n",
    "\n",
    "cm = confusion_matrix(y_test, y_pred1) # only works with sparse\n",
    "cm = cm.astype('float') / cm.sum(axis=1)[:, np.newaxis]\n",
    "accuracies = cm.diagonal()\n",
    "accuracies"
   ]
  },
  {
   "cell_type": "code",
   "execution_count": 44,
   "metadata": {},
   "outputs": [
    {
     "data": {
      "image/png": "[encoded data removed]",
      "text/plain": [
       "<Figure size 432x288 with 2 Axes>"
      ]
     },
     "metadata": {
      "needs_background": "light"
     },
     "output_type": "display_data"
    }
   ],
   "source": [
    "v_lookup = df1[['variety_code', 'variety']].drop_duplicates().set_index('variety_code').to_dict()\n",
    "v_lookup = v_lookup['variety']\n",
    "\n",
    "y_test_name = np.array([v_lookup[y_code] for y_code in y_test])\n",
    "y_pred_name = np.array([v_lookup[y_code] for y_code in y_pred1])\n",
    "\n",
    "to_plot = pd.crosstab(y_test_name, y_pred_name, normalize='index')\n",
    "sns.heatmap(to_plot)\n",
    "plt.show()"
   ]
  },
  {
   "cell_type": "code",
   "execution_count": 45,
   "metadata": {},
   "outputs": [
    {
     "data": {
      "image/png": "[encoded data removed]",
      "text/plain": [
       "<Figure size 432x288 with 1 Axes>"
      ]
     },
     "metadata": {
      "needs_background": "light"
     },
     "output_type": "display_data"
    }
   ],
   "source": [
    "v_labels = sorted(v_lookup.items(), key=lambda x: x[0])\n",
    "v_labels = [vv[1] for vv in v_labels]\n",
    "# plot accuracy by wine another way\n",
    "acc_order = np.argsort(-accuracies) # get index to sort by\n",
    "\n",
    "sns.barplot(y=np.array(v_labels)[acc_order], x=accuracies[acc_order], color='#d8dcd6')\n",
    "plt.title('Test Accuracy by Variety', fontweight=\"bold\")\n",
    "plt.xlabel('Accuracy')\n",
    "sns.despine()\n",
    "plt.show()\n"
   ]
  },
  {
   "cell_type": "code",
   "execution_count": 46,
   "metadata": {},
   "outputs": [
    {
     "name": "stdout",
     "output_type": "stream",
     "text": [
      "Chardonnay\n",
      "Riesling\n",
      "Nebbiolo\n",
      "Rosé\n",
      "Pinot Noir\n",
      "Portuguese Red\n",
      "Sangiovese\n",
      "Sauvignon Blanc\n",
      "Bordeaux-style Red Blend\n",
      "Champagne Blend\n",
      "Cabernet Sauvignon\n",
      "Grüner Veltliner\n",
      "Zinfandel\n",
      "Rhône-style Red Blend\n",
      "Syrah\n",
      "Malbec\n",
      "Pinot Gris\n",
      "Merlot\n",
      "Tempranillo\n",
      "Cabernet Franc\n"
     ]
    }
   ],
   "source": [
    "for x in (np.array(v_labels)[acc_order]):\n",
    "    print(x)"
   ]
  },
  {
   "cell_type": "code",
   "execution_count": 47,
   "metadata": {},
   "outputs": [
    {
     "name": "stdout",
     "output_type": "stream",
     "text": [
      "0.8840425531914894\n",
      "0.8476420798065296\n",
      "0.8243243243243243\n",
      "0.809009009009009\n",
      "0.7944417824628653\n",
      "0.7626262626262627\n",
      "0.7511848341232228\n",
      "0.7490494296577946\n",
      "0.7282415630550622\n",
      "0.7260869565217392\n",
      "0.7232084155161078\n",
      "0.6939890710382514\n",
      "0.6674157303370787\n",
      "0.6639004149377593\n",
      "0.6152737752161384\n",
      "0.5976190476190476\n",
      "0.5147679324894515\n",
      "0.5009940357852882\n",
      "0.41724137931034483\n",
      "0.3744493392070485\n"
     ]
    }
   ],
   "source": [
    "for x in (accuracies[acc_order]):\n",
    "    print(x)"
   ]
  },
  {
   "cell_type": "code",
   "execution_count": 106,
   "metadata": {},
   "outputs": [
    {
     "name": "stdout",
     "output_type": "stream",
     "text": [
      "Saved model to disk\n"
     ]
    }
   ],
   "source": [
    "# serialize model to JSON\n",
    "model1_json = model1.to_json()\n",
    "with open(\"model1.json\", \"w\") as json_file:\n",
    "    json_file.write(model1_json)\n",
    "# serialize weights to HDF5\n",
    "model1.save_weights(\"model1.h5\")\n",
    "print(\"Saved model to disk\")\n",
    "import pickle\n",
    "tokenizer_path = 'tokenizer.pkl'\n",
    "pickle.dump(tokenizer, open(tokenizer_path, 'wb'), protocol=pickle.HIGHEST_PROTOCOL)\n",
    "  \n",
    "\n"
   ]
  },
  {
   "cell_type": "code",
   "execution_count": 105,
   "metadata": {},
   "outputs": [],
   "source": [
    "import numpy as np\n",
    "import pandas as pd\n",
    "\n",
    "from sklearn import metrics\n",
    "from sklearn.model_selection import train_test_split\n",
    "from sklearn.feature_extraction.text import CountVectorizer, TfidfVectorizer"
   ]
  },
  {
   "cell_type": "code",
   "execution_count": 71,
   "metadata": {},
   "outputs": [
    {
     "data": {
      "text/html": [
       "<div>\n",
       "<style scoped>\n",
       "    .dataframe tbody tr th:only-of-type {\n",
       "        vertical-align: middle;\n",
       "    }\n",
       "\n",
       "    .dataframe tbody tr th {\n",
       "        vertical-align: top;\n",
       "    }\n",
       "\n",
       "    .dataframe thead th {\n",
       "        text-align: right;\n",
       "    }\n",
       "</style>\n",
       "<table border=\"1\" class=\"dataframe\">\n",
       "  <thead>\n",
       "    <tr style=\"text-align: right;\">\n",
       "      <th></th>\n",
       "      <th>user_name</th>\n",
       "      <th>country</th>\n",
       "      <th>review_title</th>\n",
       "      <th>review_description</th>\n",
       "      <th>designation</th>\n",
       "      <th>points</th>\n",
       "      <th>price</th>\n",
       "      <th>province</th>\n",
       "      <th>region_1</th>\n",
       "      <th>region_2</th>\n",
       "      <th>winery</th>\n",
       "    </tr>\n",
       "  </thead>\n",
       "  <tbody>\n",
       "    <tr>\n",
       "      <th>0</th>\n",
       "      <td>@paulgwine</td>\n",
       "      <td>US</td>\n",
       "      <td>Boedecker Cellars 2011 Athena Pinot Noir (Will...</td>\n",
       "      <td>Nicely differentiated from the companion Stewa...</td>\n",
       "      <td>Athena</td>\n",
       "      <td>88</td>\n",
       "      <td>35.0</td>\n",
       "      <td>Oregon</td>\n",
       "      <td>Willamette Valley</td>\n",
       "      <td>Willamette Valley</td>\n",
       "      <td>Boedecker Cellars</td>\n",
       "    </tr>\n",
       "    <tr>\n",
       "      <th>1</th>\n",
       "      <td>@wineschach</td>\n",
       "      <td>Argentina</td>\n",
       "      <td>Mendoza Vineyards 2012 Gran Reserva by Richard...</td>\n",
       "      <td>Charred, smoky, herbal aromas of blackberry tr...</td>\n",
       "      <td>Gran Reserva by Richard Bonvin</td>\n",
       "      <td>90</td>\n",
       "      <td>60.0</td>\n",
       "      <td>Mendoza Province</td>\n",
       "      <td>Mendoza</td>\n",
       "      <td>NaN</td>\n",
       "      <td>Mendoza Vineyards</td>\n",
       "    </tr>\n",
       "    <tr>\n",
       "      <th>2</th>\n",
       "      <td>@vboone</td>\n",
       "      <td>US</td>\n",
       "      <td>Prime 2013 Chardonnay (Coombsville)</td>\n",
       "      <td>Slightly sour and funky in earth, this is a re...</td>\n",
       "      <td>NaN</td>\n",
       "      <td>87</td>\n",
       "      <td>38.0</td>\n",
       "      <td>California</td>\n",
       "      <td>Coombsville</td>\n",
       "      <td>Napa</td>\n",
       "      <td>Prime</td>\n",
       "    </tr>\n",
       "    <tr>\n",
       "      <th>3</th>\n",
       "      <td>@wineschach</td>\n",
       "      <td>Argentina</td>\n",
       "      <td>Bodega Cuarto Dominio 2012 Chento Vineyard Sel...</td>\n",
       "      <td>This concentrated, midnight-black Malbec deliv...</td>\n",
       "      <td>Chento Vineyard Selection</td>\n",
       "      <td>91</td>\n",
       "      <td>20.0</td>\n",
       "      <td>Mendoza Province</td>\n",
       "      <td>Mendoza</td>\n",
       "      <td>NaN</td>\n",
       "      <td>Bodega Cuarto Dominio</td>\n",
       "    </tr>\n",
       "    <tr>\n",
       "      <th>4</th>\n",
       "      <td>@kerinokeefe</td>\n",
       "      <td>Italy</td>\n",
       "      <td>SassodiSole 2012  Brunello di Montalcino</td>\n",
       "      <td>Earthy aromas suggesting grilled porcini, leat...</td>\n",
       "      <td>NaN</td>\n",
       "      <td>90</td>\n",
       "      <td>49.0</td>\n",
       "      <td>Tuscany</td>\n",
       "      <td>Brunello di Montalcino</td>\n",
       "      <td>NaN</td>\n",
       "      <td>SassodiSole</td>\n",
       "    </tr>\n",
       "  </tbody>\n",
       "</table>\n",
       "</div>"
      ],
      "text/plain": [
       "      user_name    country                                       review_title  \\\n",
       "0   @paulgwine          US  Boedecker Cellars 2011 Athena Pinot Noir (Will...   \n",
       "1   @wineschach  Argentina  Mendoza Vineyards 2012 Gran Reserva by Richard...   \n",
       "2       @vboone         US                Prime 2013 Chardonnay (Coombsville)   \n",
       "3   @wineschach  Argentina  Bodega Cuarto Dominio 2012 Chento Vineyard Sel...   \n",
       "4  @kerinokeefe      Italy           SassodiSole 2012  Brunello di Montalcino   \n",
       "\n",
       "                                  review_description  \\\n",
       "0  Nicely differentiated from the companion Stewa...   \n",
       "1  Charred, smoky, herbal aromas of blackberry tr...   \n",
       "2  Slightly sour and funky in earth, this is a re...   \n",
       "3  This concentrated, midnight-black Malbec deliv...   \n",
       "4  Earthy aromas suggesting grilled porcini, leat...   \n",
       "\n",
       "                      designation  points  price          province  \\\n",
       "0                          Athena      88   35.0            Oregon   \n",
       "1  Gran Reserva by Richard Bonvin      90   60.0  Mendoza Province   \n",
       "2                             NaN      87   38.0        California   \n",
       "3       Chento Vineyard Selection      91   20.0  Mendoza Province   \n",
       "4                             NaN      90   49.0           Tuscany   \n",
       "\n",
       "                 region_1           region_2                 winery  \n",
       "0       Willamette Valley  Willamette Valley      Boedecker Cellars  \n",
       "1                 Mendoza                NaN      Mendoza Vineyards  \n",
       "2             Coombsville               Napa                  Prime  \n",
       "3                 Mendoza                NaN  Bodega Cuarto Dominio  \n",
       "4  Brunello di Montalcino                NaN            SassodiSole  "
      ]
     },
     "execution_count": 71,
     "metadata": {},
     "output_type": "execute_result"
    }
   ],
   "source": [
    "df_full=pd.read_csv(\"test.csv\")\n",
    "df_full.head()"
   ]
  },
  {
   "cell_type": "code",
   "execution_count": 72,
   "metadata": {},
   "outputs": [],
   "source": [
    "df_full['is_pinot_noir']         = df_full.review_title.apply(lambda x: 'pinot noir' in x.lower())\n",
    "df_full['is_cabernet_sauvignon'] = df_full.review_title.apply(lambda x: 'cabernet sauvignon' in x.lower())\n",
    "df_full['is_chardonnay']         = df_full.review_title.apply(lambda x: 'chardonnay' in x.lower())\n",
    "df_full['is_cabernet_franc']     = df_full.review_title.apply(lambda x: 'cabernet franc' in x.lower())"
   ]
  },
  {
   "cell_type": "code",
   "execution_count": 73,
   "metadata": {},
   "outputs": [
    {
     "name": "stdout",
     "output_type": "stream",
     "text": [
      "2396\n",
      "1936\n",
      "1926\n",
      "251\n"
     ]
    }
   ],
   "source": [
    "print(df_full.is_pinot_noir.sum())\n",
    "print(df_full.is_cabernet_sauvignon.sum())\n",
    "print(df_full.is_chardonnay.sum())\n",
    "print(df_full.is_cabernet_franc.sum())"
   ]
  },
  {
   "cell_type": "code",
   "execution_count": 74,
   "metadata": {},
   "outputs": [],
   "source": [
    "df_full['variety_code'] = None"
   ]
  },
  {
   "cell_type": "code",
   "execution_count": 75,
   "metadata": {},
   "outputs": [],
   "source": [
    "df_full['variety_code'].loc[df_full.is_cabernet_franc == True] = 3\n",
    "df_full['variety_code'].loc[df_full.is_cabernet_sauvignon == True] = 4\n",
    "df_full['variety_code'].loc[df_full.is_chardonnay == True] = 6\n",
    "df_full['variety_code'].loc[df_full.is_pinot_noir == True] = 14"
   ]
  },
  {
   "cell_type": "code",
   "execution_count": 76,
   "metadata": {},
   "outputs": [],
   "source": [
    "df = df_full[~df_full.variety_code.isna()].reset_index(drop=True)"
   ]
  },
  {
   "cell_type": "code",
   "execution_count": 77,
   "metadata": {},
   "outputs": [
    {
     "data": {
      "text/plain": [
       "14    2396\n",
       "4     1936\n",
       "6     1922\n",
       "3      246\n",
       "Name: variety_code, dtype: int64"
      ]
     },
     "execution_count": 77,
     "metadata": {},
     "output_type": "execute_result"
    }
   ],
   "source": [
    "df.variety_code.value_counts()"
   ]
  },
  {
   "cell_type": "code",
   "execution_count": 78,
   "metadata": {},
   "outputs": [],
   "source": [
    "# set classes\n",
    "x = df.review_description.values\n",
    "y = df.variety_code.values"
   ]
  },
  {
   "cell_type": "code",
   "execution_count": 79,
   "metadata": {},
   "outputs": [],
   "source": [
    "# split test and train\n",
    "x_train, x_test, y_train, y_test = train_test_split(x, y, test_size=0.2, random_state=123)"
   ]
  },
  {
   "cell_type": "code",
   "execution_count": 80,
   "metadata": {},
   "outputs": [
    {
     "data": {
      "text/plain": [
       "((5200, 8629), (1300, 8629))"
      ]
     },
     "execution_count": 80,
     "metadata": {},
     "output_type": "execute_result"
    }
   ],
   "source": [
    "# data preprocess\n",
    "tfidf_vec   = TfidfVectorizer()\n",
    "x_train_vec = tfidf_vec.fit_transform(x_train)\n",
    "x_test_vec  = tfidf_vec.transform(x_test)\n",
    "x_train_vec.shape, x_test_vec.shape"
   ]
  },
  {
   "cell_type": "code",
   "execution_count": 81,
   "metadata": {},
   "outputs": [],
   "source": [
    "y_train_lookup = dict(zip(np.unique(y_train), range(len(np.unique(y_train)))))\n",
    "y_train_remap  = [y_train_lookup[yy] for yy in y_train]\n",
    "y_test_remap   = [y_train_lookup[yy] for yy in y_test]"
   ]
  },
  {
   "cell_type": "code",
   "execution_count": 82,
   "metadata": {},
   "outputs": [
    {
     "name": "stdout",
     "output_type": "stream",
     "text": [
      "accuracy 0.8923076923076924\n"
     ]
    }
   ],
   "source": [
    "# fit model\n",
    "from sklearn.svm import LinearSVC\n",
    "clf             = LinearSVC().fit(x_train_vec, y_train_remap)\n",
    "predicted       = clf.predict(x_test_vec)\n",
    "predicted_score = clf.decision_function(x_test_vec)\n",
    "print('accuracy', metrics.accuracy_score(y_test_remap, predicted))"
   ]
  },
  {
   "cell_type": "code",
   "execution_count": 83,
   "metadata": {},
   "outputs": [
    {
     "data": {
      "text/plain": [
       "(6500, 16)"
      ]
     },
     "execution_count": 83,
     "metadata": {},
     "output_type": "execute_result"
    }
   ],
   "source": [
    "df.shape"
   ]
  },
  {
   "cell_type": "code",
   "execution_count": 107,
   "metadata": {},
   "outputs": [],
   "source": [
    "from keras import optimizers\n",
    "import tensorflow as tf\n",
    "\n",
    "from keras.utils import np_utils\n",
    "from keras.preprocessing import sequence\n",
    "from keras.preprocessing.text import Tokenizer\n",
    "\n",
    "from keras.models import Model, Sequential\n",
    "from keras.layers import Input, Dense, CuDNNLSTM, LSTM, Embedding, Bidirectional, GlobalAveragePooling1D, Conv1D, Activation, Flatten, Dropout, MaxPooling1D, Embedding, GlobalMaxPooling1D\n",
    "\n",
    "from keras.layers.core import Dense, Dropout\n",
    "\n",
    "import pickle"
   ]
  },
  {
   "cell_type": "code",
   "execution_count": 108,
   "metadata": {},
   "outputs": [
    {
     "name": "stdout",
     "output_type": "stream",
     "text": [
      "Loaded model from disk\n"
     ]
    }
   ],
   "source": [
    "\n",
    "from keras.models import model_from_json\n",
    "# load json and create model\n",
    "json_file = open('model1.json', 'r')\n",
    "loaded_model_json = json_file.read()\n",
    "json_file.close()\n",
    "loaded_model = model_from_json(loaded_model_json)\n",
    "# load weights into new model\n",
    "loaded_model.load_weights(\"model1.h5\")\n",
    "tokenizer = pickle.load(open('tokenizer.pkl', 'rb'))\n",
    "print(\"Loaded model from disk\")\n",
    "\n",
    " \n"
   ]
  },
  {
   "cell_type": "code",
   "execution_count": 115,
   "metadata": {},
   "outputs": [],
   "source": [
    "# data preprocess\n",
    "x = df.review_description.values\n",
    "y = df.variety_code.values\n",
    "\n",
    "# create sequences\n",
    "max_features = 25000\n",
    "tokenizer    = Tokenizer(num_words = max_features)\n",
    "x_sequences  = tokenizer.texts_to_sequences(x)\n",
    "\n",
    "# pad each sequence to be max length\n",
    "maxlen = 136\n",
    "x_sequences = sequence.pad_sequences(x_sequences, maxlen)"
   ]
  },
  {
   "cell_type": "code",
   "execution_count": 116,
   "metadata": {},
   "outputs": [
    {
     "name": "stdout",
     "output_type": "stream",
     "text": [
      "6500/6500 [==============================] - 0s 74us/step\n",
      "accuracy 0.29784615384615387\n"
     ]
    }
   ],
   "source": [
    "print('accuracy', model1.evaluate(x_sequences, y)[1])"
   ]
  },
  {
   "cell_type": "code",
   "execution_count": 126,
   "metadata": {},
   "outputs": [
    {
     "data": {
      "text/plain": [
       "array([['Nicely differentiated from the companion Stewart bottling, this Athena is a sharp and spicy affair, with tight, tart cranberry and raspberry fruit. Native yeast fermentation and extended sur-lie aging add some snap to the finish. Try after 2016 for optimum enjoyment.',\n",
       "        'Athena'],\n",
       "       ['Slightly sour and funky in earth, this is a restrained white aged in a majority of stainless steel, in addition to smaller percentages of oak and acacia. Crisp and minerally, marked by stone fruit as well as citrus, it finishes rich in caramel and vanilla.',\n",
       "        nan],\n",
       "       [\"This is a remarkable value, over-delivering in terms of its varietal characteristics of cola, cinnamon, grippy tannin, black pepper, cedar and leather. Medium bodied and approachable, it's right for the table or cocktail party, able to please a range of palates.\",\n",
       "        nan],\n",
       "       ...,\n",
       "       ['Clearly focused and fruit-driven, this wine has a bonanza of dark-fruit aromas, while concentrated and focused fruit flavors wash over the palate. It offers the balance and freshness to pair broadly with different cuisines and is just a pleasure to sip and savor.',\n",
       "        'Rennie Vineyard'],\n",
       "       [\"Mocha cream, pencil shaving and dried herb aromas are set against a backdrop of black currant fruit in this big but balanced bottling from the Daou brothers. It's soft on the palate, where the texture commands as much attention as the flavors, in a matrix of mouth-coating tannins that frame its cola, cocoa, black plum and cherry notes.\",\n",
       "        'Reserve'],\n",
       "       [\"With very ripe fruit and firm tannins, this mountain Cab shows attractive flavors of cassis and cedar. It's pretty tough and astringent in youth, so decant it and drink with rich marbled beef.\",\n",
       "        'Tephra Ridge Vineyard']], dtype=object)"
      ]
     },
     "execution_count": 126,
     "metadata": {},
     "output_type": "execute_result"
    }
   ],
   "source": [
    "df[['review_description', 'designation']].values"
   ]
  },
  {
   "cell_type": "code",
   "execution_count": null,
   "metadata": {},
   "outputs": [],
   "source": []
  }
 ],
 "metadata": {
  "kernelspec": {
   "display_name": "Python 3",
   "language": "python",
   "name": "python3"
  },
  "language_info": {
   "codemirror_mode": {
    "name": "ipython",
    "version": 3
   },
   "file_extension": ".py",
   "mimetype": "text/x-python",
   "name": "python",
   "nbconvert_exporter": "python",
   "pygments_lexer": "ipython3",
   "version": "3.7.3"
  }
 },
 "nbformat": 4,
 "nbformat_minor": 2
}
